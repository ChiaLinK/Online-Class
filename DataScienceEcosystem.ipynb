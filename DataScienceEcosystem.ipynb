{
 "cells": [
  {
   "cell_type": "markdown",
   "id": "f386bb23",
   "metadata": {},
   "source": [
    "# Data Science Tools and Ecosystem"
   ]
  },
  {
   "cell_type": "markdown",
   "id": "4bd8af0b",
   "metadata": {},
   "source": [
    "## In this notebook, Data Science Tools and Ecosystem are summarized.\n"
   ]
  },
  {
   "cell_type": "markdown",
   "id": "ff331acf",
   "metadata": {},
   "source": [
    "### Some of the popular languages that Data Scientists use are:\n"
   ]
  },
  {
   "cell_type": "markdown",
   "id": "e1c46821",
   "metadata": {},
   "source": [
    "#### 1. Python\n",
    "#### 2. R\n",
    "#### 3. C"
   ]
  },
  {
   "cell_type": "markdown",
   "id": "06eceffa",
   "metadata": {},
   "source": [
    "### Some of the commonly used libraries used by Data Scientists include:"
   ]
  },
  {
   "cell_type": "markdown",
   "id": "321ae4be",
   "metadata": {},
   "source": [
    "#### 1. Pandas\n",
    "#### 2. Numpy\n",
    "#### 3. Stat"
   ]
  },
  {
   "cell_type": "markdown",
   "id": "1ebedc0d",
   "metadata": {},
   "source": [
    "### Data Science Tools"
   ]
  },
  {
   "cell_type": "markdown",
   "id": "354ded21",
   "metadata": {},
   "source": [
    "#### 1. RStudio\n",
    "#### 2. Apache Spark\n",
    "#### 3. TensorFlow"
   ]
  },
  {
   "cell_type": "markdown",
   "id": "6f75a5ec",
   "metadata": {},
   "source": [
    "### Below are a few examples of evaluating arithmetic expressions in Python."
   ]
  },
  {
   "cell_type": "code",
   "execution_count": 16,
   "id": "cbd1a3d7",
   "metadata": {},
   "outputs": [
    {
     "name": "stdout",
     "output_type": "stream",
     "text": [
      "7\n",
      "10\n",
      "-3\n",
      "5.0\n"
     ]
    }
   ],
   "source": [
    "print(2+5)\n",
    "print(2*5)\n",
    "print(2-5)\n",
    "print(10/2)"
   ]
  },
  {
   "cell_type": "markdown",
   "id": "ddc3ad22",
   "metadata": {},
   "source": [
    "### This a simple arithmetic expression to mutiply then add integers\n"
   ]
  },
  {
   "cell_type": "code",
   "execution_count": 17,
   "id": "daf27cdc",
   "metadata": {},
   "outputs": [
    {
     "name": "stdout",
     "output_type": "stream",
     "text": [
      "17\n"
     ]
    }
   ],
   "source": [
    "print((3*4)+5)"
   ]
  },
  {
   "cell_type": "markdown",
   "id": "a5108688",
   "metadata": {},
   "source": [
    "### This will convert 200 minutes to hours by diving by 60\n"
   ]
  },
  {
   "cell_type": "code",
   "execution_count": 1,
   "id": "5a37c9c6",
   "metadata": {},
   "outputs": [],
   "source": [
    "#This will convert 200 minutes to hours by diving by 60\n",
    "\n",
    "hoursconvert = 200/60"
   ]
  },
  {
   "cell_type": "code",
   "execution_count": 25,
   "id": "938bae95",
   "metadata": {},
   "outputs": [
    {
     "data": {
      "text/plain": [
       "3.3333333333333335"
      ]
     },
     "execution_count": 25,
     "metadata": {},
     "output_type": "execute_result"
    }
   ],
   "source": [
    "hoursconvert"
   ]
  },
  {
   "cell_type": "code",
   "execution_count": 27,
   "id": "5a67907e",
   "metadata": {},
   "outputs": [
    {
     "name": "stdout",
     "output_type": "stream",
     "text": [
      "200 equals to 3.3333333333333335 hours\n"
     ]
    }
   ],
   "source": [
    "print(\"200 equals to\", hoursconvert,\"hours\")"
   ]
  },
  {
   "cell_type": "markdown",
   "id": "1e34fe89",
   "metadata": {},
   "source": [
    "### Objectives: "
   ]
  },
  {
   "cell_type": "markdown",
   "id": "36a65956",
   "metadata": {},
   "source": [
    "#### - Jupyter Notebook is used in Data Science for recording experiments and projects.\n",
    "#### - Jupyter Lab is compatible with many files and Data Science languages.\n",
    "#### - The Anaconda Navigator GUI can launch multiple applications on a local device.\n",
    "\n",
    "\n",
    "\n"
   ]
  },
  {
   "cell_type": "markdown",
   "id": "fc59d7c5",
   "metadata": {},
   "source": [
    "## Author"
   ]
  },
  {
   "cell_type": "markdown",
   "id": "eb3e57ea",
   "metadata": {},
   "source": [
    "### Chia-Lin KAO"
   ]
  },
  {
   "cell_type": "code",
   "execution_count": null,
   "id": "32dd18d6",
   "metadata": {},
   "outputs": [],
   "source": []
  }
 ],
 "metadata": {
  "kernelspec": {
   "display_name": "Python 3 (ipykernel)",
   "language": "python",
   "name": "python3"
  },
  "language_info": {
   "codemirror_mode": {
    "name": "ipython",
    "version": 3
   },
   "file_extension": ".py",
   "mimetype": "text/x-python",
   "name": "python",
   "nbconvert_exporter": "python",
   "pygments_lexer": "ipython3",
   "version": "3.10.6"
  }
 },
 "nbformat": 4,
 "nbformat_minor": 5
}
